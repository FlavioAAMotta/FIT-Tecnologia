{
 "cells": [
  {
   "cell_type": "code",
   "execution_count": 12,
   "metadata": {},
   "outputs": [],
   "source": [
    "def analise_sentimento():\n",
    "    print(\"\\n=== Análise de Sentimento ===\")\n",
    "    # Carregando o modelo de análise de sentimento\n",
    "    sentiment_analyzer = pipeline(\n",
    "        \"sentiment-analysis\",\n",
    "        model=\"cardiffnlp/twitter-xlm-roberta-base-sentiment\",\n",
    "        tokenizer=\"cardiffnlp/twitter-xlm-roberta-base-sentiment\"\n",
    "    )\n",
    "    \n",
    "    # Textos para análise\n",
    "    textos = [\n",
    "        \"Adorei o filme, foi incrível!\",\n",
    "        \"O serviço foi péssimo, não recomendo.\",\n",
    "        \"O produto é bom, mas poderia ser melhor.\"\n",
    "    ]\n",
    "    \n",
    "    # Analisando os sentimentos\n",
    "    for texto in textos:\n",
    "        resultado = sentiment_analyzer(texto)\n",
    "        # Convertendo labels para português\n",
    "        label_map = {\n",
    "            'positive': 'Positivo',\n",
    "            'negative': 'Negativo',\n",
    "            'neutral': 'Neutro'\n",
    "        }\n",
    "        label = label_map.get(resultado[0]['label'], resultado[0]['label'])\n",
    "        print(f\"\\nTexto: {texto}\")\n",
    "        print(f\"Sentimento: {label}\")\n",
    "        print(f\"Confiança: {resultado[0]['score']:.2f}\")"
   ]
  },
  {
   "cell_type": "code",
   "execution_count": 8,
   "metadata": {},
   "outputs": [],
   "source": [
    "\n",
    "def geracao_texto():\n",
    "    print(\"\\n=== Geração de Texto ===\")\n",
    "    # Carregando o modelo de geração de texto\n",
    "    gerador = pipeline(\"text-generation\", model=\"gpt2\")\n",
    "    \n",
    "    # Texto inicial\n",
    "    prompt = \"The future of artificial intelligence\"\n",
    "    \n",
    "    # Gerando texto\n",
    "    resultado = gerador(prompt, max_length=100, num_return_sequences=1)\n",
    "    print(f\"\\nPrompt: {prompt}\")\n",
    "    print(f\"Texto gerado: {resultado[0]['generated_text']}\")"
   ]
  },
  {
   "cell_type": "code",
   "execution_count": 9,
   "metadata": {},
   "outputs": [],
   "source": [
    "\n",
    "def resumo_texto():\n",
    "    print(\"\\n=== Resumo de Texto ===\")\n",
    "    # Carregando o modelo de resumo\n",
    "    summarizer = pipeline(\"summarization\", model=\"facebook/bart-large-cnn\")\n",
    "    \n",
    "    # Texto para resumir\n",
    "    texto = \"\"\"\n",
    "    A inteligência artificial (IA) está transformando rapidamente a maneira como vivemos e trabalhamos. \n",
    "    Desde assistentes virtuais até carros autônomos, a IA está se tornando cada vez mais presente em nossas vidas. \n",
    "    As empresas estão investindo bilhões em pesquisa e desenvolvimento de IA, e os governos estão criando \n",
    "    políticas para regular seu uso. Apesar dos benefícios, existem preocupações sobre privacidade, \n",
    "    segurança e o impacto no mercado de trabalho. É importante que continuemos a discutir e desenvolver \n",
    "    a IA de forma ética e responsável.\n",
    "    \"\"\"\n",
    "    \n",
    "    # Gerando o resumo\n",
    "    resumo = summarizer(texto, max_length=130, min_length=30, do_sample=False)\n",
    "    print(f\"\\nTexto original: {texto}\")\n",
    "    print(f\"\\nResumo: {resumo[0]['summary_text']}\")"
   ]
  },
  {
   "cell_type": "code",
   "execution_count": 14,
   "metadata": {},
   "outputs": [
    {
     "name": "stdout",
     "output_type": "stream",
     "text": [
      "Demonstração de Transformers\n",
      "========================================\n",
      "\n",
      "=== Análise de Sentimento ===\n",
      "\n",
      "Texto: Adorei o filme, foi incrível!\n",
      "Sentimento: Positivo\n",
      "Confiança: 0.95\n",
      "\n",
      "Texto: O serviço foi péssimo, não recomendo.\n",
      "Sentimento: Negativo\n",
      "Confiança: 0.94\n",
      "\n",
      "Texto: O produto é bom, mas poderia ser melhor.\n",
      "Sentimento: Positivo\n",
      "Confiança: 0.46\n",
      "\n",
      "=== Geração de Texto ===\n"
     ]
    },
    {
     "name": "stderr",
     "output_type": "stream",
     "text": [
      "Setting `pad_token_id` to `eos_token_id`:50256 for open-end generation.\n"
     ]
    },
    {
     "name": "stdout",
     "output_type": "stream",
     "text": [
      "\n",
      "Prompt: The future of artificial intelligence\n",
      "Texto gerado: The future of artificial intelligence is set to be a lot darker. More computing power is already in play than ever before — as is the level of computing power currently available in the workplace, with new algorithms being constantly churned out to meet increasingly demanding needs. Even for a company that is just $12 billion in cash, AI may seem like a pretty big leap to make. But it's more than just a new toy to watch out for.\n",
      "\n",
      "It's been a while since we've sat\n",
      "\n",
      "=== Resumo de Texto ===\n",
      "\n",
      "Texto original: \n",
      "    A inteligência artificial (IA) está transformando rapidamente a maneira como vivemos e trabalhamos. \n",
      "    Desde assistentes virtuais até carros autônomos, a IA está se tornando cada vez mais presente em nossas vidas. \n",
      "    As empresas estão investindo bilhões em pesquisa e desenvolvimento de IA, e os governos estão criando \n",
      "    políticas para regular seu uso. Apesar dos benefícios, existem preocupações sobre privacidade, \n",
      "    segurança e o impacto no mercado de trabalho. É importante que continuemos a discutir e desenvolver \n",
      "    a IA de forma ética e responsável.\n",
      "    \n",
      "\n",
      "Resumo: A inteligência artificial (IA) está transformando rapidamente a maneira como vivemos e trabalhamos. Desde assistentes virtuais até carros autônomos, a IA está se tornando cada vez mais presente em nossas vidas.\n"
     ]
    }
   ],
   "source": [
    "print(\"Demonstração de Transformers\")\n",
    "print(\"=\" * 40)\n",
    "\n",
    "# Executando as demonstrações\n",
    "analise_sentimento()\n",
    "geracao_texto()\n",
    "resumo_texto()"
   ]
  },
  {
   "cell_type": "code",
   "execution_count": null,
   "metadata": {},
   "outputs": [],
   "source": []
  }
 ],
 "metadata": {
  "kernelspec": {
   "display_name": "Python 3",
   "language": "python",
   "name": "python3"
  },
  "language_info": {
   "codemirror_mode": {
    "name": "ipython",
    "version": 3
   },
   "file_extension": ".py",
   "mimetype": "text/x-python",
   "name": "python",
   "nbconvert_exporter": "python",
   "pygments_lexer": "ipython3",
   "version": "3.11.9"
  }
 },
 "nbformat": 4,
 "nbformat_minor": 2
}
