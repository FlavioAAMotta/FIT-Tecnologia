{
 "cells": [
  {
   "cell_type": "code",
   "execution_count": 1,
   "id": "134b944c",
   "metadata": {},
   "outputs": [
    {
     "name": "stderr",
     "output_type": "stream",
     "text": [
      "No model was supplied, defaulted to distilbert-base-uncased-finetuned-sst-2-english and revision af0f99b (https://huggingface.co/distilbert-base-uncased-finetuned-sst-2-english).\n",
      "Using a pipeline without specifying a model name and revision in production is not recommended.\n"
     ]
    }
   ],
   "source": [
    "from transformers import pipeline\n",
    "\n",
    "# Carrega o modelo pré-treinado\n",
    "sentiment_pipeline = pipeline(\"sentiment-analysis\")\n"
   ]
  },
  {
   "cell_type": "code",
   "execution_count": 2,
   "id": "c752703d",
   "metadata": {},
   "outputs": [
    {
     "name": "stdout",
     "output_type": "stream",
     "text": [
      "Texto: I loved the new Transformers movie!\n",
      "Sentimento: POSITIVE (1.00)\n",
      "\n",
      "Texto: The food was terrible, I'm never coming back here.\n",
      "Sentimento: NEGATIVE (1.00)\n",
      "\n",
      "Texto: I kinda like this movie\n",
      "Sentimento: POSITIVE (1.00)\n",
      "\n",
      "Texto: Didn't liked it\n",
      "Sentimento: NEGATIVE (1.00)\n",
      "\n"
     ]
    }
   ],
   "source": [
    "\n",
    "# Avaliações\n",
    "reviews = [\n",
    "    \"I loved the new Transformers movie!\",\n",
    "    \"The food was terrible, I'm never coming back here.\",\n",
    "    \"I kinda like this movie\",\n",
    "    \"Didn't liked it\"\n",
    "]\n",
    "\n",
    "# Analisando sentimentos\n",
    "results = sentiment_pipeline(reviews)\n",
    "\n",
    "# Mostrando os resultados\n",
    "for review, result in zip(reviews, results):\n",
    "    print(f\"Texto: {review}\")\n",
    "    print(f\"Sentimento: {result['label']} ({result['score']:.2f})\\n\")\n"
   ]
  },
  {
   "cell_type": "code",
   "execution_count": null,
   "id": "bb7277a6",
   "metadata": {},
   "outputs": [],
   "source": []
  }
 ],
 "metadata": {
  "kernelspec": {
   "display_name": "Python 3",
   "language": "python",
   "name": "python3"
  },
  "language_info": {
   "codemirror_mode": {
    "name": "ipython",
    "version": 3
   },
   "file_extension": ".py",
   "mimetype": "text/x-python",
   "name": "python",
   "nbconvert_exporter": "python",
   "pygments_lexer": "ipython3",
   "version": "3.11.9"
  }
 },
 "nbformat": 4,
 "nbformat_minor": 5
}
