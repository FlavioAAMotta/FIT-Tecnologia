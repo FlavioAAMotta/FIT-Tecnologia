{
 "cells": [
  {
   "cell_type": "code",
   "execution_count": 1,
   "id": "68adab5c",
   "metadata": {},
   "outputs": [],
   "source": [
    "from transformers import AutoModelForSeq2SeqLM, AutoTokenizer\n",
    "\n",
    "# Carregando o modelo e tokenizer\n",
    "model_name = \"facebook/nllb-200-distilled-600M\"\n",
    "tokenizer = AutoTokenizer.from_pretrained(model_name)\n",
    "model = AutoModelForSeq2SeqLM.from_pretrained(model_name)\n",
    "\n",
    "# Texto para traduzir\n",
    "text = \"Artificial intelligence is transforming the world.\"\n",
    "\n",
    "# Tokenizar o texto\n",
    "inputs = tokenizer(text, return_tensors=\"pt\", padding=True)\n"
   ]
  },
  {
   "cell_type": "code",
   "execution_count": 2,
   "id": "32cf5e9c",
   "metadata": {},
   "outputs": [
    {
     "name": "stdout",
     "output_type": "stream",
     "text": [
      "Texto original: Artificial intelligence is transforming the world.\n",
      "Tradução: A inteligência artificial está a transformar o mundo.\n"
     ]
    }
   ],
   "source": [
    "# Gerar a tradução (eng_Latn para por_Latn)\n",
    "translated_tokens = model.generate(\n",
    "    **inputs,\n",
    "    forced_bos_token_id=tokenizer.lang_code_to_id[\"por_Latn\"],\n",
    "    max_length=128\n",
    ")\n",
    "\n",
    "# Decodificar a tradução\n",
    "translated_text = tokenizer.batch_decode(translated_tokens, skip_special_tokens=True)[0]\n",
    "print(f\"Texto original: {text}\")\n",
    "print(f\"Tradução: {translated_text}\")"
   ]
  },
  {
   "cell_type": "code",
   "execution_count": null,
   "id": "b76ece34",
   "metadata": {},
   "outputs": [],
   "source": []
  }
 ],
 "metadata": {
  "kernelspec": {
   "display_name": "Python 3",
   "language": "python",
   "name": "python3"
  },
  "language_info": {
   "codemirror_mode": {
    "name": "ipython",
    "version": 3
   },
   "file_extension": ".py",
   "mimetype": "text/x-python",
   "name": "python",
   "nbconvert_exporter": "python",
   "pygments_lexer": "ipython3",
   "version": "3.11.9"
  }
 },
 "nbformat": 4,
 "nbformat_minor": 5
}
